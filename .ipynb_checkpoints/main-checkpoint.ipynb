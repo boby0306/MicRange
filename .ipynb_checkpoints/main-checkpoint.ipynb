{
 "cells": [
  {
   "cell_type": "code",
   "execution_count": null,
   "metadata": {},
   "outputs": [],
   "source": [
    "from scipy.io.wavfile import read,write"
   ]
  },
  {
   "cell_type": "code",
   "execution_count": null,
   "metadata": {},
   "outputs": [],
   "source": [
    "band1_3= (20, \n",
    "          25, 31.5, 40,\n",
    "          50, 63, 80,\n",
    "          100, 125,160,\n",
    "          200, 250, 315,\n",
    "          400, 500, 630,\n",
    "          800, 1000, 1250,\n",
    "          1600, 2000, 2500,\n",
    "          3150, 4000, 5000,\n",
    "          6300, 8000, 10000,\n",
    "          12500, 16000, 20000)"
   ]
  },
  {
   "cell_type": "code",
   "execution_count": 3,
   "metadata": {},
   "outputs": [],
   "source": [
    "rangeDic = {}"
   ]
  },
  {
   "cell_type": "code",
   "execution_count": null,
   "metadata": {},
   "outputs": [],
   "source": [
    "rangeDic[20] = [17.8, 22.4]\n",
    "rangeDic[25] = [22.4, 28.1]\n",
    "rangeDic[31.5] = [28.1, 35.4]\n",
    "rangeDic[40] = [35.4, 44.7]\n",
    "rangeDic[50] = [44.7, 56.2]\n",
    "rangeDic[63] = [56.2, 70.8]\n",
    "rangeDic[80] = [70.8, 89.1]\n",
    "rangeDic[100] = [89.1, 112.2]\n",
    "rangeDic[125] = [112.2, 141.3]\n",
    "rangeDic[160] = [141.3, 177.8]\n",
    "rangeDic[200] = [177.8, 223.8]\n",
    "rangeDic[250] = [223.8, 281.8]\n",
    "rangeDic[315] = [281.8, 354.8]\n",
    "rangeDic[400] = [354.8, 446.6]\n",
    "rangeDic[500] = [446.7, 562.3]\n",
    "rangeDic[630] = [562.3, 707.9]\n",
    "rangeDic[800] = [707.9, 891.2]\n",
    "rangeDic[1000] = [891.2, 1122.0]\n",
    "rangeDic[1250] = [1122.0, 1412.5]\n",
    "rangeDic[1600] = [1412.5, 1778.2]\n",
    "rangeDic[2000] = [1778.2, 2238.8]\n",
    "rangeDic[2500] = [2238.8, 2818.4]\n",
    "rangeDic[3150] = [2818.4, 3548.2]\n",
    "rangeDic[4000] = [3548.2, 4466.9]\n",
    "rangeDic[5000] = [4466.9, 5623.4]\n",
    "rangeDic[6300] = [5623.4, 7079.5]\n",
    "rangeDic[8000] = [7079.5, 8912.5]\n",
    "rangeDic[10000] = [8912.5, 11220.1]\n",
    "rangeDic[12500] = [11220.1, 14125.1]\n",
    "rangeDic[16000] = [14125.1, 17782.9]\n",
    "rangeDic[20000] = [17782.9, 22387.6]"
   ]
  },
  {
   "cell_type": "code",
   "execution_count": 5,
   "metadata": {},
   "outputs": [],
   "source": [
    "from scipy.signal import butter,sosfilt"
   ]
  },
  {
   "cell_type": "code",
   "execution_count": 6,
   "metadata": {},
   "outputs": [],
   "source": [
    "def mk_bandPassFilter(lowcut, highcut, fs, order = 8):\n",
    "    fnyq = 0.5 * fs\n",
    "    low  = lowcut / fnyq\n",
    "    high = highcut / fnyq\n",
    "    sos = butter(order, [low, high], btype = \"bandpass\", output = \"sos\")#発散するので2次セクション化\n",
    "    return sos"
   ]
  },
  {
   "cell_type": "code",
   "execution_count": 7,
   "metadata": {},
   "outputs": [],
   "source": [
    "def bandPass(data, lowcut, highcut, fsd, order = 8):\n",
    "    sos = mk_bandPassFilter(lowcut, highcut, fs, order=order)\n",
    "    filtData = sosfilt(sos, data)\n",
    "    return filtData"
   ]
  },
  {
   "cell_type": "code",
   "execution_count": 8,
   "metadata": {},
   "outputs": [],
   "source": [
    "fs, data = read(\"./data/90dB_30s.wav\")"
   ]
  },
  {
   "cell_type": "code",
   "execution_count": 11,
   "metadata": {},
   "outputs": [],
   "source": [
    "bandWidth = rangeDic[20]\n",
    "filtData = bandPass(data, bandWidth[0], bandWidth[1], 48000.0)"
   ]
  },
  {
   "cell_type": "code",
   "execution_count": null,
   "metadata": {},
   "outputs": [],
   "source": []
  }
 ],
 "metadata": {
  "kernelspec": {
   "display_name": "Python 3",
   "language": "python",
   "name": "python3"
  },
  "language_info": {
   "codemirror_mode": {
    "name": "ipython",
    "version": 3
   },
   "file_extension": ".py",
   "mimetype": "text/x-python",
   "name": "python",
   "nbconvert_exporter": "python",
   "pygments_lexer": "ipython3",
   "version": "3.6.5"
  }
 },
 "nbformat": 4,
 "nbformat_minor": 1
}
