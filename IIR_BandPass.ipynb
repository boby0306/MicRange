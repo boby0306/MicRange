{
 "cells": [
  {
   "cell_type": "code",
   "execution_count": 65,
   "metadata": {},
   "outputs": [
    {
     "data": {
      "text/plain": [
       "CompletedProcess(args=['jupyter', 'nbconvert', '--to', 'python', 'IIR_BandPass.ipynb'], returncode=0)"
      ]
     },
     "execution_count": 65,
     "metadata": {},
     "output_type": "execute_result"
    }
   ],
   "source": [
    "import subprocess\n",
    "subprocess.run(['jupyter', 'nbconvert', '--to', 'python', 'IIR_BandPass.ipynb'])"
   ]
  },
  {
   "cell_type": "code",
   "execution_count": 2,
   "metadata": {},
   "outputs": [],
   "source": [
    "def getCutOffF(ft):\n",
    "    lowCut = ft/((10**(3/10))**(1/6))\n",
    "    highCut= ft*((10**(3/10))**(1/6))\n",
    "    return lowCut, highCut"
   ]
  },
  {
   "cell_type": "code",
   "execution_count": 5,
   "metadata": {},
   "outputs": [],
   "source": [
    "from analyze.by3OctBand import trueFList\n",
    "import analyze.bandpass as bandpass\n",
    "import csv"
   ]
  },
  {
   "cell_type": "code",
   "execution_count": 160,
   "metadata": {},
   "outputs": [],
   "source": [
    "for ft in trueFList:\n",
    "    lowCut, highCut = getCutOffF(ft)\n",
    "    sos = bandpass.mk_bandPassFilter(lowCut,highCut,48000.0)\n",
    "        \n",
    "    a = np.zeros(5)\n",
    "    for sec in sos:\n",
    "        sec = np.delete(sec,3)\n",
    "        a = np.vstack((a,sec))\n",
    "    a = a[1:]\n",
    "    with open(\"BandPass.csv\",\"a\", newline='') as f:\n",
    "            t = [ft]\n",
    "            writer = csv.writer(f, lineterminator = \",\\n\")\n",
    "            writer.writerow(t)\n",
    "            writer.writerows(a)"
   ]
  },
  {
   "cell_type": "code",
   "execution_count": 11,
   "metadata": {},
   "outputs": [],
   "source": [
    "ft = 1000.0\n",
    "lowCut, highCut = getCutOffF(ft)\n",
    "sos = bandpass.mk_bandPassFilter(lowCut,highCut,48000.0)"
   ]
  },
  {
   "cell_type": "markdown",
   "metadata": {},
   "source": [
    "## F特チェック"
   ]
  },
  {
   "cell_type": "code",
   "execution_count": 12,
   "metadata": {},
   "outputs": [],
   "source": [
    "from scipy.signal import sosfreqz\n",
    "w, h = sosfreqz(sos, worN = 24000*100)#worNは周波数分解能"
   ]
  },
  {
   "cell_type": "code",
   "execution_count": 21,
   "metadata": {},
   "outputs": [
    {
     "data": {
      "image/png": "[encoded data removed]",
      "text/plain": [
       "<Figure size 432x288 with 1 Axes>"
      ]
     },
     "metadata": {},
     "output_type": "display_data"
    }
   ],
   "source": [
    "import numpy as np\n",
    "import matplotlib.pyplot as plt\n",
    "plt.subplot(2,1,1)\n",
    "dB = 20 * np.log10(np.abs(h)+1e-30)\n",
    "plt.plot(w*48000.0/(2.0*np.pi) ,dB)\n",
    "plt.ylim(-75,5)\n",
    "plt.grid(True)\n",
    "plt.yticks([0,-20,-40,-60])\n",
    "plt.ylabel(\"Gain[dB]\")\n",
    "plt.title(\"Frequency Response\")\n",
    "# plt.xlim(0, 2)\n",
    "plt.show()"
   ]
  },
  {
   "cell_type": "markdown",
   "metadata": {},
   "source": [
    "## JIS1514"
   ]
  },
  {
   "cell_type": "code",
   "execution_count": 62,
   "metadata": {},
   "outputs": [],
   "source": [
    "high1 = ft*1.02667 # -0.3+0.4\n",
    "high2 = ft*1.05575 # -0.3+0.6\n",
    "high3 = ft*1.08746 # -0.3+1.3\n",
    "#highcut\n",
    "high4 = ft*1.29437 # 2 5"
   ]
  },
  {
   "cell_type": "code",
   "execution_count": 64,
   "metadata": {},
   "outputs": [
    {
     "data": {
      "text/plain": [
       "-56.74584110719842"
      ]
     },
     "execution_count": 64,
     "metadata": {},
     "output_type": "execute_result"
    }
   ],
   "source": [
    "dB[129437]"
   ]
  },
  {
   "cell_type": "code",
   "execution_count": null,
   "metadata": {},
   "outputs": [],
   "source": []
  },
  {
   "cell_type": "code",
   "execution_count": 117,
   "metadata": {},
   "outputs": [
    {
     "data": {
      "text/plain": [
       "array([ 4.28391509e-28,  8.56783018e-28,  4.28391509e-28, -1.99922793e+00,\n",
       "        9.99239234e-01])"
      ]
     },
     "execution_count": 117,
     "metadata": {},
     "output_type": "execute_result"
    }
   ],
   "source": [
    "a = sos[0]\n",
    "b = np.delete(a, 3)\n",
    "b"
   ]
  },
  {
   "cell_type": "code",
   "execution_count": 158,
   "metadata": {},
   "outputs": [],
   "source": [
    "import csv\n",
    "with open(\"BandPass.csv\",\"a\", newline='') as f:\n",
    "    t = [ft]\n",
    "    writer = csv.writer(f, lineterminator=\",\\n\")\n",
    "    writer.writerow(t)\n",
    "    for row in sos:\n",
    "        writer.writerow(row)"
   ]
  },
  {
   "cell_type": "code",
   "execution_count": null,
   "metadata": {},
   "outputs": [],
   "source": []
  }
 ],
 "metadata": {
  "kernelspec": {
   "display_name": "Python 3",
   "language": "python",
   "name": "python3"
  },
  "language_info": {
   "codemirror_mode": {
    "name": "ipython",
    "version": 3
   },
   "file_extension": ".py",
   "mimetype": "text/x-python",
   "name": "python",
   "nbconvert_exporter": "python",
   "pygments_lexer": "ipython3",
   "version": "3.6.5"
  }
 },
 "nbformat": 4,
 "nbformat_minor": 1
}
