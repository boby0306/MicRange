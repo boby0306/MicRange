{
 "cells": [
  {
   "cell_type": "code",
   "execution_count": 1,
   "metadata": {},
   "outputs": [
    {
     "data": {
      "text/plain": [
       "CompletedProcess(args=['jupyter', 'nbconvert', '--to', 'python', 'ファイル名.ipynb'], returncode=4294967295)"
      ]
     },
     "execution_count": 1,
     "metadata": {},
     "output_type": "execute_result"
    }
   ],
   "source": [
    "import subprocess\n",
    "subprocess.run(['jupyter', 'nbconvert', '--to', 'python', 'ファイル名.ipynb'])"
   ]
  },
  {
   "cell_type": "code",
   "execution_count": 1,
   "metadata": {},
   "outputs": [],
   "source": [
    "from analyze import bandpass\n",
    "import csv\n",
    "import numpy as np"
   ]
  },
  {
   "cell_type": "markdown",
   "metadata": {},
   "source": [
    "## CaliをもとにZ特性音圧"
   ]
  },
  {
   "cell_type": "markdown",
   "metadata": {},
   "source": [
    "### iOS"
   ]
  },
  {
   "cell_type": "code",
   "execution_count": 9,
   "metadata": {},
   "outputs": [],
   "source": [
    "fileName = \"./data/Cali_30s.wav\"\n",
    "Cali = bandpass.getpower(fileName)"
   ]
  },
  {
   "cell_type": "code",
   "execution_count": 10,
   "metadata": {},
   "outputs": [],
   "source": [
    "analyzeList = (\"34dB\", \"40db\", \"45dB\", \"50dB\", \"ambient\")\n",
    "forCSV = []\n",
    "for dB in analyzeList:\n",
    "    tmp = [dB]\n",
    "    fileName = \"./data/\" + dB + \"_30s.wav\"\n",
    "    power = np.array([bandpass.getpower(fileName)])\n",
    "    overAll =94.0 + bandpass.ene2dB(power,Cali)\n",
    "    tmp.extend(overAll)\n",
    "    forCSV.append(tmp)"
   ]
  },
  {
   "cell_type": "code",
   "execution_count": null,
   "metadata": {},
   "outputs": [],
   "source": [
    "with open(\"iOS_OA.csv\",\"a\") as f:\n",
    "    writer = csv.writer(f)\n",
    "    writer.writerows(forCSV)"
   ]
  },
  {
   "cell_type": "markdown",
   "metadata": {},
   "source": [
    "### SLM"
   ]
  },
  {
   "cell_type": "code",
   "execution_count": null,
   "metadata": {},
   "outputs": [],
   "source": [
    "fileName = \"./data/SLM_Cali_30s.wav\"\n",
    "Cali = bandpass.getpower(fileName)"
   ]
  },
  {
   "cell_type": "code",
   "execution_count": null,
   "metadata": {},
   "outputs": [],
   "source": [
    "analyzeList = (\"34dB\", \"40db\", \"45dB\", \"50dB\", \"ambient\")\n",
    "forCSV = []\n",
    "for dB in analyzeList:\n",
    "    tmp = [dB]\n",
    "    fileName = \"./data/SLM_\" + dB + \"_30s.wav\"\n",
    "    power = np.array([bandpass.getpower(fileName)])\n",
    "    overAll =94.0 - bandpass.ene2dB(power,Cali)\n",
    "    tmp.extend(overAll)\n",
    "    forCSV.append(tmp)"
   ]
  },
  {
   "cell_type": "code",
   "execution_count": null,
   "metadata": {},
   "outputs": [],
   "source": [
    "with open(\"SLM_OA\",\"a\") as f:\n",
    "    writer = csv.writer(f)\n",
    "    writer.writerows(forCSV)"
   ]
  },
  {
   "cell_type": "markdown",
   "metadata": {},
   "source": [
    "## Caliを元にBand分析"
   ]
  },
  {
   "cell_type": "code",
   "execution_count": 7,
   "metadata": {},
   "outputs": [],
   "source": [
    "fileName = \"./data/Cali_30s.wav\"\n",
    "Cali = bandpass.getpower(fileName)\n",
    "analyzeList = (\"34dB\", \"40db\", \"45dB\", \"50dB\", \"ambient\")\n",
    "forCSV = []\n",
    "for dB in analyzeList:\n",
    "    tmp = [dB]\n",
    "    fileName = \"./data/\" + dB + \"_30s.wav\"\n",
    "    bandEne = bandpass.by3OctAnalyze(fileName)\n",
    "    banddB = bandpass.ene2dB(bandEne, Cali) + 94.0\n",
    "    tmp.extend(list(map(lambda i:i, banddB)))\n",
    "    forCSV.append(tmp)"
   ]
  },
  {
   "cell_type": "code",
   "execution_count": 8,
   "metadata": {},
   "outputs": [],
   "source": [
    "with open(\"iOS_Band.csv\",\"a\") as f:\n",
    "    writer = csv.writer(f)\n",
    "    writer.writerows(forCSV)"
   ]
  },
  {
   "cell_type": "code",
   "execution_count": null,
   "metadata": {},
   "outputs": [],
   "source": []
  },
  {
   "cell_type": "code",
   "execution_count": 9,
   "metadata": {},
   "outputs": [],
   "source": [
    "fileName = \"./data/SLM_Cali_30s.wav\"\n",
    "Cali = bandpass.getpower(fileName)\n",
    "analyzeList = (\"34dB\", \"40db\", \"45dB\", \"50dB\", \"ambient\")\n",
    "forCSV = []\n",
    "for dB in analyzeList:\n",
    "    tmp = [dB]\n",
    "    fileName = \"./data/SLM_\" + dB + \"_30s.wav\"\n",
    "    bandEne = bandpass.by3OctAnalyze(fileName)\n",
    "    banddB = bandpass.ene2dB(bandEne, Cali) + 94.0\n",
    "    tmp.extend(list(map(lambda i:i, banddB)))\n",
    "    forCSV.append(tmp)"
   ]
  },
  {
   "cell_type": "code",
   "execution_count": 10,
   "metadata": {},
   "outputs": [],
   "source": [
    "with open(\"SLM_Band.csv\",\"a\") as f:\n",
    "    writer = csv.writer(f)\n",
    "    writer.writerows(forCSV)"
   ]
  },
  {
   "cell_type": "markdown",
   "metadata": {},
   "source": [
    "## OverAllを元にBand分析"
   ]
  },
  {
   "cell_type": "code",
   "execution_count": 11,
   "metadata": {},
   "outputs": [],
   "source": [
    "analyzeList = (\"34dB\", \"40db\", \"45dB\", \"50dB\", \"ambient\")\n",
    "forCSV = []\n",
    "for dB in analyzeList:\n",
    "    tmp = [dB]\n",
    "    fileName = \"./data/\" + dB + \"_30s.wav\"\n",
    "    bandEne = bandpass.by3OctAnalyze(fileName)\n",
    "    power = bandpass.getpower(fileName)\n",
    "    banddB = bandpass.ene2dB(bandEne, power)\n",
    "    tmp.extend(list(map(lambda i:i, banddB)))\n",
    "    forCSV.append(tmp)\n",
    "with open(\"iOS_Band.csv\",\"a\") as f:\n",
    "    writer = csv.writer(f)\n",
    "    writer.writerows(forCSV)"
   ]
  },
  {
   "cell_type": "code",
   "execution_count": 14,
   "metadata": {},
   "outputs": [],
   "source": [
    "analyzeList = (\"34dB\", \"40db\", \"45dB\", \"50dB\", \"ambient\")\n",
    "forCSV = []\n",
    "for dB in analyzeList:\n",
    "    tmp = [dB]\n",
    "    fileName = \"./data/SLM_\" + dB + \"_30s.wav\"\n",
    "    bandEne = bandpass.by3OctAnalyze(fileName)\n",
    "    power = bandpass.getpower(fileName)\n",
    "    banddB = bandpass.ene2dB(bandEne, power)\n",
    "    tmp.extend(list(map(lambda i:i, banddB)))\n",
    "    forCSV.append(tmp)\n",
    "with open(\"SLM_Band.csv\",\"a\") as f:\n",
    "    writer = csv.writer(f)\n",
    "    writer.writerows(forCSV)"
   ]
  },
  {
   "cell_type": "code",
   "execution_count": null,
   "metadata": {},
   "outputs": [],
   "source": []
  },
  {
   "cell_type": "code",
   "execution_count": 3,
   "metadata": {},
   "outputs": [],
   "source": [
    "fileName = \"./data/Cali_30s.wav\"\n",
    "Cali = bandpass.getApower(fileName)\n",
    "analyzeList = (\"34dB\", \"40db\", \"45dB\", \"50dB\", \"ambient\")\n",
    "forCSV = []\n",
    "for dB in analyzeList:\n",
    "    tmp = [dB]\n",
    "    fileName = \"./data/\" + dB + \"_30s.wav\"\n",
    "    power = np.array([bandpass.getApower(fileName)])\n",
    "    overAll =94.0 + bandpass.ene2dB(power,Cali)\n",
    "    tmp.extend(overAll)\n",
    "    forCSV.append(tmp)\n",
    "with open(\"iOS_OA(A)\",\"a\") as f:\n",
    "    writer = csv.writer(f)\n",
    "    writer.writerows(forCSV)\n",
    "\n",
    "fileName = \"./data/SLM_Cali_30s.wav\"\n",
    "Cali = bandpass.getApower(fileName)\n",
    "analyzeList = (\"34dB\", \"40db\", \"45dB\", \"50dB\", \"ambient\")\n",
    "forCSV = []\n",
    "for dB in analyzeList:\n",
    "    tmp = [dB]\n",
    "    fileName = \"./data/SLM_\" + dB + \"_30s.wav\"\n",
    "    power = np.array([bandpass.getApower(fileName)])\n",
    "    overAll =94.0 + bandpass.ene2dB(power,Cali)\n",
    "    tmp.extend(overAll)\n",
    "    forCSV.append(tmp)\n",
    "with open(\"SLM_OA(A)\",\"a\") as f:\n",
    "    writer = csv.writer(f)\n",
    "    writer.writerows(forCSV)"
   ]
  },
  {
   "cell_type": "code",
   "execution_count": null,
   "metadata": {},
   "outputs": [],
   "source": []
  }
 ],
 "metadata": {
  "kernelspec": {
   "display_name": "Python 3",
   "language": "python",
   "name": "python3"
  },
  "language_info": {
   "codemirror_mode": {
    "name": "ipython",
    "version": 3
   },
   "file_extension": ".py",
   "mimetype": "text/x-python",
   "name": "python",
   "nbconvert_exporter": "python",
   "pygments_lexer": "ipython3",
   "version": "3.6.5"
  },
  "widgets": {
   "application/vnd.jupyter.widget-state+json": {
    "state": {},
    "version_major": 2.0,
    "version_minor": 0.0
   }
  }
 },
 "nbformat": 4,
 "nbformat_minor": 1
}
