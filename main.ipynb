{
 "cells": [
  {
   "cell_type": "code",
   "execution_count": 1,
   "metadata": {},
   "outputs": [],
   "source": [
    "from analyze import bandpass\n",
    "import csv"
   ]
  },
  {
   "cell_type": "code",
   "execution_count": 4,
   "metadata": {},
   "outputs": [],
   "source": [
    "analyzeList = (40, 50, 60, 70, 80, 90)\n",
    "forCSV = []\n",
    "for dB in analyzeList:\n",
    "    tmp = [str(dB) + \"dB\"]\n",
    "    fileName = \"./data/\" + str(dB) + \"dB_30s.wav\"\n",
    "    bandEne = bandpass.by3OctAnalyze(fileName)\n",
    "    power = bandpass.getpower(fileName)\n",
    "    banddB = bandpass.ene2dB(bandEne, power)\n",
    "    tmp.extend(list(map(lambda i:i, banddB)))\n",
    "    forCSV.append(tmp)"
   ]
  },
  {
   "cell_type": "code",
   "execution_count": 5,
   "metadata": {},
   "outputs": [],
   "source": [
    "with open(\"Analyze.csv\",\"a\") as f:\n",
    "    writer = csv.writer(f)\n",
    "    writer.writerows(forCSV)"
   ]
  },
  {
   "cell_type": "code",
   "execution_count": null,
   "metadata": {},
   "outputs": [],
   "source": []
  }
 ],
 "metadata": {
  "kernelspec": {
   "display_name": "Python 3",
   "language": "python",
   "name": "python3"
  },
  "language_info": {
   "codemirror_mode": {
    "name": "ipython",
    "version": 3
   },
   "file_extension": ".py",
   "mimetype": "text/x-python",
   "name": "python",
   "nbconvert_exporter": "python",
   "pygments_lexer": "ipython3",
   "version": "3.6.5"
  }
 },
 "nbformat": 4,
 "nbformat_minor": 1
}
