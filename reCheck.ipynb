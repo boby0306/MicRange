{
 "cells": [
  {
   "cell_type": "code",
   "execution_count": 1,
   "metadata": {},
   "outputs": [],
   "source": [
    "import subprocess\n",
    "subprocess.run(['jupyter', 'nbconvert', '--to', 'python', 'ファイル名.ipynb'])\n",
    "\n",
    "from analyze import bandpass\n",
    "import csv\n",
    "import numpy as np"
   ]
  },
  {
   "cell_type": "markdown",
   "metadata": {},
   "source": [
    "## Z特性"
   ]
  },
  {
   "cell_type": "code",
   "execution_count": 2,
   "metadata": {},
   "outputs": [],
   "source": [
    "analyzeList = (\"SLM\", \"myApp\", \"noset\", \"low\", \"high\")\n",
    "forCSV = []\n",
    "for tmp in analyzeList:\n",
    "    nameList = [tmp]\n",
    "    caliFile = \"./data/\" + tmp + \"_cali_30s.wav\"\n",
    "    cali = np.array([bandpass.getpower(caliFile)])\n",
    "    ambientFile = \"./data/\" + tmp + \"_ambient_30s.wav\"\n",
    "    ambient = np.array([bandpass.getpower(ambientFile)])\n",
    "    overAll =94.0 + bandpass.ene2dB(ambient,cali)\n",
    "    nameList.extend(overAll)\n",
    "    forCSV.append(nameList)\n",
    "    \n",
    "with open(\"OA(Z).csv\",\"a\") as f:\n",
    "    writer = csv.writer(f)\n",
    "    writer.writerows(forCSV)"
   ]
  },
  {
   "cell_type": "markdown",
   "metadata": {},
   "source": [
    "## Band"
   ]
  },
  {
   "cell_type": "code",
   "execution_count": 10,
   "metadata": {},
   "outputs": [],
   "source": [
    "analyzeList = (\"SLM\", \"myApp\")\n",
    "forCSV = []\n",
    "for tmp in analyzeList:\n",
    "    nameList = [tmp]\n",
    "    caliFile = \"./data/\" + tmp + \"_cali_30s.wav\"\n",
    "    cali = np.array([bandpass.getpower(caliFile)])\n",
    "    ambientFile = \"./data/\" + tmp + \"_ambient_30s.wav\"\n",
    "    bandEne = bandpass.by3OctAnalyze(ambientFile)\n",
    "    banddB  = bandpass.ene2dB(bandEne,cali) + 94.0\n",
    "    nameList.extend(list(map(lambda i:i, banddB)))\n",
    "    forCSV.append(nameList)\n",
    "with open(\"ambient_Band.csv\",\"a\", newline='') as f:\n",
    "    writer = csv.writer(f)\n",
    "    writer.writerows(forCSV)"
   ]
  },
  {
   "cell_type": "code",
   "execution_count": null,
   "metadata": {},
   "outputs": [],
   "source": []
  }
 ],
 "metadata": {
  "kernelspec": {
   "display_name": "Python 3",
   "language": "python",
   "name": "python3"
  },
  "language_info": {
   "codemirror_mode": {
    "name": "ipython",
    "version": 3
   },
   "file_extension": ".py",
   "mimetype": "text/x-python",
   "name": "python",
   "nbconvert_exporter": "python",
   "pygments_lexer": "ipython3",
   "version": "3.6.5"
  }
 },
 "nbformat": 4,
 "nbformat_minor": 2
}
